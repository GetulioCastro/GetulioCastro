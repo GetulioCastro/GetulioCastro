{
  "nbformat": 4,
  "nbformat_minor": 0,
  "metadata": {
    "colab": {
      "name": "CPL1- Data Science na Prática",
      "provenance": [],
      "collapsed_sections": [],
      "include_colab_link": true
    },
    "kernelspec": {
      "name": "python3",
      "display_name": "Python 3"
    },
    "language_info": {
      "name": "python"
    }
  },
  "cells": [
    {
      "cell_type": "markdown",
      "metadata": {
        "id": "view-in-github",
        "colab_type": "text"
      },
      "source": [
        "<a href=\"https://colab.research.google.com/github/GetulioCastro/GetulioCastro/blob/main/CPL1_Data_Science_na_Pr%C3%A1tica.ipynb\" target=\"_parent\"><img src=\"https://colab.research.google.com/assets/colab-badge.svg\" alt=\"Open In Colab\"/></a>"
      ]
    },
    {
      "cell_type": "markdown",
      "metadata": {
        "id": "f1O3peeRF4ok"
      },
      "source": [
        "<img alt=\"Colaboratory logo\" width=\"15%\" src=\"https://raw.githubusercontent.com/carlosfab/escola-data-science/master/img/novo_logo_bg_claro.png\">\n",
        "\n",
        "#### **Data Science na Prática 3.0**\n",
        "\n",
        "\n",
        "---\n",
        "\n",
        "# Aula 01 - O que é Ciência de Dados e como se tornar um Cientista de Dados\n",
        "\n",
        "Se você chegou até aqui, de alguma forma você sabe que Python e Ciência de Dados podem ser um caminho para uma mudança de vida e de carreira.\n",
        "\n",
        "A linguagem que mais cresce no mundo, e a mais usada para Ciência de Dados é com certeza a melhor opção para uma primeira linguagem de programação, ou mesmo para a sua próxima.\n",
        "\n",
        " \n",
        "\n",
        "\n",
        "<center><img width=\"45%\" src=\"https://github.com/rafaelnduarte/sigmoidal_data/blob/master/carlos.png?raw=true\"></center>\n",
        "\n",
        "Hoje em dia, uma das maiores habilidades que um profissional pode buscar é saber programar em Python. Aliado a isso, ter um conhecimento e pensamento analítico em relação a dados é com certeza um grande diferencial.\n",
        "\n",
        "Mas por que Python?\n"
      ]
    },
    {
      "cell_type": "markdown",
      "metadata": {
        "id": "0hs8N_UPAzW9"
      },
      "source": [
        "## Por que Python?\n",
        "\n",
        "<center><img width=\"45%\" src=\"https://github.com/rafaelnduarte/sigmoidal_data/blob/master/Denise.png?raw=true\"></center>\n",
        "\n",
        "\n",
        "Python é uma linguagem multiparadigma, ou seja, funciona utilizando diferentes paradigmas de programação. Além disso, sua versatilidade pode ser percebida pela enorme quantidade de possibilidades que a linguagem proporciona, indo desde desenvolvimento web, automação de tarefas, ciências de dados nas mais diversas áreas de negócio, desde marketing e gestão de estoque até defesa e atividades espaciais.\n",
        "\n",
        "Com uma enorme comunidade mundial que cresce mais a cada dia, Python é a principal linguagem para Ciência de Dados, com uma infinidade de bibliotecas para auxiliar o seu trabalho, além de ser a profissão mais sexy do momento, com demanda e salários crescentes."
      ]
    },
    {
      "cell_type": "markdown",
      "metadata": {
        "id": "4o-jDj4HA3h9"
      },
      "source": [
        "## Dados: O Novo Petróleo\n",
        "\n",
        "<center><img width=\"45%\" src=\"https://github.com/rafaelnduarte/sigmoidal_data/blob/master/Screen%20Shot%202021-05-13%20at%2011.15.11.png?raw=true\"></center>\n",
        "\n",
        "Já não é mais novidade que estamos produzindo mais dados nas últimas décadas do que havíamos produzido em toda nossa história! A revolução digital veio para ficar e seu ativo mais precioso são os dados.\n",
        "\n",
        "Essa enorme quantidade de dados é um grande desafio, pois geramos mais dados do que conseguimos monitorar e explorar, por isso a demanda por pessoas que consigam manipular, analisar e tirar informações desses dados continua crescendo, sem sinais de parar.\n",
        "\n",
        "O profissional qualificado que consiga entender o problema, extrair as respostas dos dados e e comunicar de forma efetiva em todos os níveis técnicos é o mais desejado do momento.\n",
        "\n",
        "Mas como se tornar esse profissional?"
      ]
    },
    {
      "cell_type": "markdown",
      "metadata": {
        "id": "c-kJs-7WCkEO"
      },
      "source": [
        "## Data Analytical Thinking e Data-Driven Decision Making\n",
        "\n",
        "<center><img width=\"55%\" src=\"https://github.com/rafaelnduarte/sigmoidal_data/blob/master/Screen%20Shot%202021-05-13%20at%2011.05.43.png?raw=true\"></center>\n",
        "\n",
        "\n",
        "Agora você já tem uma noção da proporção desses dados e do tamanho da oportunidade que está a sua frente, mas como navegar esse universo, conseguir entender esses dados e tirar verdadeiro valor deles?\n",
        "\n",
        "O primeiro passo é entender que em Ciência de Dados temos a palvra Ciência. É isso mesmo, você deve fazer Ciência, que é algo que nem todos na área estão fazendo.\n",
        "\n",
        "Fazer ciência engloba ter um método a ser seguido, formular e testar hipóteses, e ir além da modinha, do algoritmo coringa e do Towards Data Science. Com isso você consegue desenvolver duas habilidades extremamente importantes: Data Analytical Thinking (Pensamento Analítico de Dados) e Data-Driven Decision Making (Tomada de Decisão Orientada a Dados).\n",
        "\n",
        "> \"... uma perspectiva de dados fornecerá estrutura e princípios, e isso lhe dará uma base para analisar sistematicamente tais problemas.\" \n",
        "\n",
        "--\n",
        "\n",
        "**Data Analytical Thinking**\n",
        "\n",
        "<center><img width=\"55%\" src=\"https://github.com/rafaelnduarte/sigmoidal_data/blob/master/Screen%20Shot%202021-05-13%20at%2011.09.08.png?raw=true\"></center>\n",
        "\n",
        "Desenvolver um Pensamento Analítico de Dados significa que você pensa a partir da perspectiva dos dados. Quando estamos apredendno uma nova língua, é comum associar um momento de fluência quando você consegue pensar na língua alvo, às vezes até sonhar nela, o que demonstra determinado domínio sobre o tema.\n",
        "\n",
        "Guardadas as devidas proporções, é algo nessa linha que acontece. Você começa a entender os caminhos que os dados costumam tomar, as peças que eles costumam pregar em você, e já sabe como percorrer o caminho superando esses resultados.\n",
        "\n",
        "Além disso, você consegue balizar seu entendimento de uma forma que você sabe o que é realista ou não nas expectativas dos gerentes de produtos, CEOs, pessoas que não estão envolvidas no parte técnica do processo. Isso te mostra que tipo de dados você precisa para resolver determinado problema, os tratamentos pelo qual eles precisam passar, toda a estrutura de código e projeto que vai levar ao resultado esperado.\n",
        "\n",
        "Aqui também vale uma certa \"desconfiança\". Você já sabe sobre under e overfitting, e sabe que uma acurácia de 100% provavelmente não significa que você fez um trabalho incrível, mas sim que houve algum problema no seu processo que está retornando um resultado irreal. Entender intervalos de confiança, métricas de avaliação, parâmetros, tudo isso entra em Data Analytical Thinking.\n",
        "\n",
        "--\n",
        "\n",
        "**Data-Driven Decision Making**\n",
        "<center><img width=\"55%\" src=\"https://images.unsplash.com/photo-1527474305487-b87b222841cc?ixid=MnwxMjA3fDB8MHxwaG90by1wYWdlfHx8fGVufDB8fHx8&ixlib=rb-1.2.1&auto=format&fit=crop&w=1267&q=80\"></center>\n",
        "\n",
        "O processo anterior alimenta este. Quando você e sua equipe têm um pensamento analítico no que tange dados, você consegue criar uma cultura de tomada de decisão baseada em dados. \n",
        "\n",
        "Isso significa deixar de lado o achismo, superstição, e métodos ineficientes e guiar as decisões da empresa baseado em dados, em método científico comprovável, reproduzível e mensurável.\n",
        "\n",
        "Uma vez que tudo isso está alinhado, alguns processos de decisão podem até ser automatizados. Nós já sentimos isso na pele em algumas situações, como por exemplo quando tentamos adquirir aquele cartão digital roxo, é feita uma análise em nosso cadastro e o algortimo decide por si mesmo se você vai ter ou não o seu cartão liberado, além de definir o seu limite inicial. Tudo isso são decisões baseadas em dados que foram automatizadas.\n",
        "\n",
        "Mas somente empresas de tecnologia, fintechs, startups inovadoras se beneficiam de uma cultura forte de dados? De forma alguma! Vamos entrar nisso mais a fundo."
      ]
    },
    {
      "cell_type": "markdown",
      "metadata": {
        "id": "65TQspuzMgJE"
      },
      "source": [
        "## Quem Se Beneficia de uma Cultura de Dados?\n",
        "\n",
        "<center><img width=\"55%\" src=\"https://github.com/rafaelnduarte/sigmoidal_data/blob/master/astronauta.png?raw=true\"></center>\n",
        "\n",
        "Basicamente, se você está no mundo hoje, você está gerando dados. O mundo ao seu redor é baseado em dados, então você também precisa e pode se beneficiar disso.\n",
        "\n",
        "Como falamos anteriormente na nossa motivação em direção ao Python mostramos alguns exemplos, mas eles vão além de áreas como Mercado Financeiro, Defesa, Marketing, RH, etc.\n",
        "\n",
        "Toda vez que você precisa prever, classificar, agrupar os seus dados (dentre muitas outras possibilidades), você irá se beneficiar de já estar inserido em uma cultura de dados.\n",
        "\n",
        "Isso significa descobrir, analisar e acompanhar muito bem seu KPIs, todos os dados que os alimentam e influenciam e agir junto do seu time de forma a otimizar o seus resultados com os dados que você possui."
      ]
    },
    {
      "cell_type": "markdown",
      "metadata": {
        "id": "tWRlIe1dqD4I"
      },
      "source": [
        "## Que Tipos de Tarefas Congiso Realizar com Data Science?\n",
        "\n",
        "\n",
        "<center><img width=\"55%\" src=\"https://github.com/rafaelnduarte/sigmoidal_data/blob/master/Screen%20Shot%202021-05-13%20at%2013.59.41.png?raw=true\"></center>\n",
        "\n",
        "De forma simples e clara, qualquer pessoa que vive no mundo hoje pode se beneficiar de Ciência de Dados. Isso pois, como mencionamos todos nós estamos deixando um rastro de dados enorme em tudo que fazemos. Desde por onde passamos, com quem encontramos, o que e como compramos, praticamente tudo!\n",
        "\n",
        "Por isso, todas as indústrias vão se beneficiar de um trabalho nessa área, desde advogados, médicos, fintechs, bancos, aplicativos de comida, operadores logísticos, varejistas, entre muitos outros.\n",
        "\n",
        "Mas como posso ter resultados com Data Science? O que é Data Science?\n",
        "\n",
        "\n",
        "* Metodologia Científica\n",
        "\n",
        "1. Defina o objetivo da pesquisa -> Quero prever o congestionamento no trânsito de São Paulo para um determinado dia.\n",
        "2. Faça uma hipótese -> Eu acho que o clima é uma informação relevante.\n",
        "3. Colete dados -> Pegue dados históricos do congestionamento e clima para cada dia.\n",
        "4. Teste sua hipótese -> Treine um modelo usando esses dados.\n",
        "5. Analise seus resultados -> Esse modelo é melhor que os sistemas já existentes?\n",
        "6. Chegue a uma conclusão -> Eu (não) deveria usar esse modelo para fazer previsões por causa de X, Y e Z.\n",
        "7. Refine a hipótese e repita -> Época do ano pode ser uma informação relevante.\n",
        "\n"
      ]
    },
    {
      "cell_type": "markdown",
      "metadata": {
        "id": "8_5V6GuZ0ud8"
      },
      "source": [
        "## O que é Data Science?\n",
        "\n",
        "Para cada pessoa que você perguntar, terá uma resposta que traz alguns conceitos em comum, mas sempre com algumas diferenças. Isso depende de a quem você vai perguntar, se é na academia, uma pessoa da área que acumula funções de cientista e engenheiro de dados, um Engenheiro de Machine Learning, mas dá para entender o que é.\n",
        "\n",
        "De forma resumida, Data Science é o processo que transforma dados em previsões e insights de negócio. Aqui vamos abranger desde a concepção e entendimento do problema, aquisição, tratamento e análise dos dados, até a fase de Machine Learning, rendendo resultados para os _decision makers_ do negócio.\n",
        "\n",
        "Mas que previsões são essas? Que tipo de problemas vamos resolver?\n",
        "\n"
      ]
    },
    {
      "cell_type": "markdown",
      "metadata": {
        "id": "cMxsnzcv5CSp"
      },
      "source": [
        "## Aprendizado Supervisionado vs Não-Supervisionado\n",
        "\n",
        "Para começar a entender os trabalhos, precisamos primeiro generalizar em 2 tipos de Aprendizado: Supervisionado e Não Supervisionado.\n",
        "\n",
        "**Supervisionado**\n",
        "<center><img width=\"55%\" src=\"https://miro.medium.com/max/1000/0*4q_X_xQxevOQY_0u\"></center>\n",
        "\n",
        "Aprendizado Supervisionado normalmente acontece no conexto de classificação, quando queremos mapear outputs categóricos, ou de regressão, quando queremos mapear um output contínuo. Aqui, mostramos o resultado esperado, ensinando e \"supervisionando\" o modelo ao executar a tarefa, por isso o nome.\n",
        "\n",
        "<center><img width=\"55%\" src=\"https://miro.medium.com/max/3200/1*ASYpFfDh7XnreU-ygqXonw.png\"></center>\n",
        "\n",
        "\n",
        "Alguns dos algoritmos supervisionados mais comuns são logistic regression, naive bayes, support vector machines, artificial neural networks, e random forests.\n",
        "\n",
        "**Não Supervisionado**\n",
        "<center><img width=\"55%\" src=\"https://miro.medium.com/max/2246/1*lhkCOodCMZ0-SSziEDpwpA.png\"></center>\n",
        "\n",
        "Diferente do supervisionado, aqui não \"ensinamos\" ao modelo qual seria o resultado esperado. As tarefas mais comuns para esse tipo de aprendizado são clustering, estimativa de densidade e representation learning. Aqui, queremos entender a estrutura dos dados sem usar labels explícitas, repostas certas para o algoritmo.\n",
        "\n",
        "Alguns tarefas comuns são k-means clustering, principal component analysis, e autoencoders. Outro detalhe desse tipo de aprendizado é que já que não temos labels específicos para conferência, não temos um método específico para avaliação desses modelos, como fazemos com os supervisionados.\n",
        "\n",
        "No caso do Clustering, por exemplo, o que queremos é agrupar os pontos de acordo com carcterísticas significativas. No exemplo acima, agrupamos os patos, o rato e o coelho, cada um em seu grupo.\n",
        "\n",
        "<center><img width=\"55%\" src=\"https://i.imgur.com/S65Sk9c.jpg\"></center>\n"
      ]
    },
    {
      "cell_type": "markdown",
      "metadata": {
        "id": "yi7gY33o1SQQ"
      },
      "source": [
        "## Python na Prática\n",
        "\n",
        "Agora já temos uma boa noção desse universo e você já sabe que, assim como a Denise, você precisa aceitar Python como a linguagem da sua vida!\n",
        "\n",
        "E não há forma melhor de entender isso do que com a mão na massa.\n",
        "\n",
        "Abaixo, vamos demonstrar algumas coisas sobre a linguagem ponto, bem como sobre lógica de programação em geral. Mas não vamos simplesmente mostar o que é um `int` ou uma `string`, mas vamos fazer isso **enquanto** resolvemos um problema.\n",
        "\n",
        "Os exemplos de código e problemas abaixo foram adaptados do livro **\"Data Science From Scrach\"**.\n",
        "\n",
        "No livro, você vive o dia a dia de um Cientista de Dados, que recebe demandas e precisa utilizar a linguagem Python para resolver problemas.\n",
        "\n",
        "O primeiro deles, é criar uma rede social para cientistas de dados, utilizando dados dos seus colegas de trabalho. Vamos ver como começar esse projeto:"
      ]
    },
    {
      "cell_type": "code",
      "metadata": {
        "id": "sg1cjwf9FqdO"
      },
      "source": [
        "# importando os pacotes necessários\n",
        "from collections import Counter\n",
        "from collections import defaultdict\n",
        "import matplotlib.pyplot as plt\n",
        "\n",
        "\n",
        "# ------------------------------------------------------------\n",
        "# rede social para cientistas de dados\n",
        "# ------------------------------------------------------------\n",
        "\n",
        "names = [\n",
        "    'Carlos',\n",
        "    'Theo',\n",
        "    'Fernanda',\n",
        "    'Isabela',\n",
        "    'Raquel',\n",
        "    'Giuliano',\n",
        "    'Rafael',\n",
        "    'Natália',\n",
        "    'Rodrigues',\n",
        "    'Denise']\n",
        "\n",
        "users = [{'id':i, 'name':name, 'friends':[]} for i, name in enumerate(names)]\n",
        "\n",
        "friendships = [(0, 1), (0, 2), (1, 2), (1, 3), (2, 3), (3, 4),\n",
        "               (4, 5), (5, 6), (5, 7), (6, 8), (7, 8), (8, 9)]\n",
        "\n",
        "for i, j in friendships:\n",
        "    users[i][\"friends\"].append(users[j]) # adicionar i como amigo de j\n",
        "    users[j][\"friends\"].append(users[i]) # adicionar j como amigo de i\n"
      ],
      "execution_count": null,
      "outputs": []
    },
    {
      "cell_type": "code",
      "metadata": {
        "id": "eDY1ClM_tAIC"
      },
      "source": [
        "# ------------------------------------------------------------\n",
        "# contando amigos\n",
        "# ------------------------------------------------------------\n",
        "\n",
        "def number_of_friends(user):\n",
        "    \"\"\"quantos amigos _user_ tem?\"\"\"\n",
        "    return len(user[\"friends\"])\n",
        "\n",
        "total_connections = sum(number_of_friends(user) for user in users)\n",
        "num_users = len(users)\n",
        "avg_connections = total_connections / num_users"
      ],
      "execution_count": null,
      "outputs": []
    },
    {
      "cell_type": "code",
      "metadata": {
        "colab": {
          "base_uri": "https://localhost:8080/"
        },
        "id": "X81twN5StHNW",
        "outputId": "d4370581-83b7-424b-a11a-3fc9a564e1cf"
      },
      "source": [
        "# criar uma lista (user_id, number_of_friends)\n",
        "num_friends_by_id = [(user[\"id\"], number_of_friends(user)) for user in users]\n",
        "sorted(num_friends_by_id,\n",
        "       key=lambda t: t[1],\n",
        "       reverse=True)"
      ],
      "execution_count": null,
      "outputs": [
        {
          "output_type": "execute_result",
          "data": {
            "text/plain": [
              "[(1, 3),\n",
              " (2, 3),\n",
              " (3, 3),\n",
              " (5, 3),\n",
              " (8, 3),\n",
              " (0, 2),\n",
              " (4, 2),\n",
              " (6, 2),\n",
              " (7, 2),\n",
              " (9, 1)]"
            ]
          },
          "metadata": {
            "tags": []
          },
          "execution_count": 7
        }
      ]
    },
    {
      "cell_type": "code",
      "metadata": {
        "colab": {
          "base_uri": "https://localhost:8080/"
        },
        "id": "g6Eyxn2YtJ3o",
        "outputId": "08277293-53d4-4a8f-ebc0-e1a67bd872d7"
      },
      "source": [
        "# ------------------------------------------------------------\n",
        "# encontrando amigos com interesses em comum\n",
        "# ------------------------------------------------------------\n",
        "\n",
        "interests = [\n",
        "    (0, \"Hadoop\"), (0, \"Big Data\"), (0, \"HBase\"), (0, \"Java\"),\n",
        "    (0, \"Spark\"), (0, \"Storm\"), (0, \"Cassandra\"),\n",
        "    (1, \"NoSQL\"), (1, \"MongoDB\"), (1, \"Cassandra\"), (1, \"HBase\"),\n",
        "    (1, \"Postgres\"), (2, \"Python\"), (2, \"scikit-learn\"), (2, \"scipy\"),\n",
        "    (2, \"numpy\"), (2, \"statsmodels\"), (2, \"pandas\"), (3, \"R\"), (3, \"Python\"),\n",
        "    (3, \"statistics\"), (3, \"regression\"), (3, \"probability\"),\n",
        "    (4, \"machine learning\"), (4, \"regression\"), (4, \"decision trees\"),\n",
        "    (4, \"libsvm\"), (5, \"Python\"), (5, \"R\"), (5, \"Java\"), (5, \"C++\"),\n",
        "    (5, \"Haskell\"), (5, \"programming languages\"), (6, \"statistics\"),\n",
        "    (6, \"probability\"), (6, \"mathematics\"), (6, \"theory\"),\n",
        "    (7, \"machine learning\"), (7, \"scikit-learn\"), (7, \"Mahout\"),\n",
        "    (7, \"neural networks\"), (8, \"neural networks\"), (8, \"deep learning\"),\n",
        "    (8, \"Big Data\"), (8, \"artificial intelligence\"), (9, \"Hadoop\"),\n",
        "    (9, \"Java\"), (9, \"MapReduce\"), (9, \"Big Data\")\n",
        "]\n",
        "# chaves são interesses, valores são listas de user_ids com esse interesse\n",
        "user_ids_by_interest = defaultdict(list)\n",
        "for user_id, interest in interests:\n",
        "    user_ids_by_interest[interest].append(user_id)\n",
        "    \n",
        "# chaves são user_ids, valores são listas de interesses para aquele user_id\n",
        "interests_by_user_id = defaultdict(list)\n",
        "for user_id, interest in interests:\n",
        "    interests_by_user_id[user_id].append(interest)\n",
        "\n",
        "def most_common_interests_with(user):\n",
        "    return Counter(interested_user_id\n",
        "                   for interest in interests_by_user_id[user[\"id\"]]\n",
        "                   for interested_user_id in user_ids_by_interest[interest]\n",
        "                   if interested_user_id != user[\"id\"])\n",
        "\n",
        "most_common_interests_with(users[0])\n",
        "# Counter({1: 2, 5: 1, 8: 1, 9: 3})\n",
        "\n",
        "most_common_interests_with(users[3])\n",
        "# Counter({2: 1, 4: 1, 5: 2, 6: 2})\n"
      ],
      "execution_count": null,
      "outputs": [
        {
          "output_type": "execute_result",
          "data": {
            "text/plain": [
              "Counter({2: 1, 4: 1, 5: 2, 6: 2})"
            ]
          },
          "metadata": {
            "tags": []
          },
          "execution_count": 9
        }
      ]
    },
    {
      "cell_type": "code",
      "metadata": {
        "colab": {
          "base_uri": "https://localhost:8080/",
          "height": 295
        },
        "id": "caY-VNv9tNzd",
        "outputId": "e9c91c30-41cb-4739-93e7-e25afc74bfa0"
      },
      "source": [
        "# ------------------------------------------------------------\n",
        "# entendendo o efeito da experiência sobre o salário\n",
        "# ------------------------------------------------------------\n",
        "\n",
        "salaries_and_tenures = sorted([\n",
        "    (83000, 8.7), (88000, 8.1),\n",
        "    (48000, 0.7), (76000, 6),\n",
        "    (69000, 6.5), (76000, 7.5),\n",
        "    (60000, 2.5), (83000, 10),\n",
        "    (48000, 1.9), (63000, 4.2)],\n",
        "    key=lambda x: x[0])\n",
        "\n",
        "# plotar salários vs. experiência\n",
        "plt.plot([s[0] for s in salaries_and_tenures],\n",
        "         [s[1] for s in salaries_and_tenures],\n",
        "         'b*')\n",
        "plt.ylabel('Salário')\n",
        "plt.xlabel('Anos de Experiência')\n",
        "plt.show()\n",
        "\n",
        "def tenure_bucket(tenure):\n",
        "    if tenure < 2:\n",
        "        return \"Menos de 2\"\n",
        "    elif tenure < 5:\n",
        "        return \"Entre 2 e 5\"\n",
        "    else:\n",
        "        return \"Mais de 5\"\n",
        "\n",
        "# chaves são anos, valores são listas de salários para cara período\n",
        "salary_by_tenure_bucket = defaultdict(list)\n",
        "for salary, tenure in salaries_and_tenures:\n",
        "    salary_by_tenure_bucket[tenure_bucket(tenure)].append(salary)\n",
        "\n",
        "# chaves são buckets de experiência, valores são a média salarial para aquele bucket\n",
        "average_salary_by_bucket = {\n",
        "    tenure_bucket : sum(salaries) / len(salaries)\n",
        "    for tenure_bucket, salaries in salary_by_tenure_bucket.items()\n",
        "}\n",
        "\n",
        "print(average_salary_by_bucket)\n",
        "# {'Entre 2 e 5': 61500.0,\n",
        "#  'Menos de 2': 48000.0,\n",
        "#  'Mais de 5': 79166.66666666667}"
      ],
      "execution_count": null,
      "outputs": [
        {
          "output_type": "display_data",
          "data": {
            "image/png": "[encoded data removed]",
            "text/plain": [
              "<Figure size 432x288 with 1 Axes>"
            ]
          },
          "metadata": {
            "tags": [],
            "needs_background": "light"
          }
        },
        {
          "output_type": "stream",
          "text": [
            "{'Menos de 2': 48000.0, 'Entre 2 e 5': 61500.0, 'Mais de 5': 79166.66666666667}\n"
          ],
          "name": "stdout"
        }
      ]
    },
    {
      "cell_type": "markdown",
      "metadata": {
        "id": "UxWPxW_HtblV"
      },
      "source": [
        "## Visualizações\n",
        "\n",
        "Agora que temos uma ideia melhor das estruturas, e de como utilizar Python para resolver problemas, é hora de nos aprofundarmos um pouco mais nas visualizações.\n",
        "\n",
        "Como bem sabemos, as visualizações podem ser utilizadas tanto para ajudar em uma análise, para que possamos entender melhor nossos dados e as possíveis mudanças necessárias ao identificar *outliers*, por exemplo, quanto para comunicar resultados e insights no trabalho.\n",
        "\n",
        "Essa segunda parte é extremamente importante, pois toda a tecnicalidade do mundo pode não valer nada se os tomadores de decisões da empresa não conseguirem entender como o seu trabalho pode ajudar a ter melhores resultados.\n",
        "\n",
        "Por isso, uma comunicação visual efetiva e clara é fundamental. É importante que as visualizações sejam estéticamente satisfatórias, mas nada adianta serem belas se não transmitem as ideias corretamente.\n",
        "\n",
        "Por isso, agora vamos analisar os diferentes tipos de gráficos que podemos utilizar, e para que tipo de visualização cada tipo é melhor."
      ]
    },
    {
      "cell_type": "markdown",
      "metadata": {
        "id": "kqPhogFYt61O"
      },
      "source": [
        "## Gráfico de Linha\n",
        "\n",
        "Esse tipo de gráfico é extremamente útil quando queremos transmitir a evolução de algo ao longo do tempo.\n",
        "\n",
        "No exemplo abaixo, vamos demonstrar a evolução do PIB ao longo dos anos."
      ]
    },
    {
      "cell_type": "code",
      "metadata": {
        "colab": {
          "base_uri": "https://localhost:8080/",
          "height": 280
        },
        "id": "ar3Gh2Z-tTdr",
        "outputId": "6fbcca58-9a89-45be-c32d-d2c34429906a"
      },
      "source": [
        "# importando o matplotlib\n",
        "import matplotlib.pyplot as plt\n",
        "\n",
        "\n",
        "# ------------------------------------------------------------\n",
        "# gráfico de linha - GPD (PIB)\n",
        "# ------------------------------------------------------------\n",
        "\n",
        "years = [1950, 1960, 1970, 1980, 1990, 2000, 2010]\n",
        "gdp = [300.2, 543.3, 1075.9, 2862.5, 5979.6, 10289.7, 14958.3]\n",
        "\n",
        "# criando uma gráfico de linha, anos no eixo x e pib e no y\n",
        "plt.plot(years, gdp, color='green', marker='o', linestyle='solid')\n",
        "# adicionando um título\n",
        "plt.title(\"PIB\")\n",
        "# adicionando um label ao eixo y\n",
        "plt.ylabel(\"Bilhões de Dólares\")\n",
        "plt.show()\n",
        "\n"
      ],
      "execution_count": null,
      "outputs": [
        {
          "output_type": "display_data",
          "data": {
            "image/png": "[encoded data removed]",
            "text/plain": [
              "<Figure size 432x288 with 1 Axes>"
            ]
          },
          "metadata": {
            "tags": [],
            "needs_background": "light"
          }
        }
      ]
    },
    {
      "cell_type": "markdown",
      "metadata": {
        "id": "Q6jZ_O9UuIOv"
      },
      "source": [
        "## Gráfico de Barras\n",
        "\n",
        "Esse tipo de visualização é muito útil quando estamos lidando com categorias, por exemplo.\n",
        "\n",
        "Nesse caso, vamos utilizar esse tipo de visualização para comparar a quantidade de Oscars que cada filme recebeu."
      ]
    },
    {
      "cell_type": "code",
      "metadata": {
        "colab": {
          "base_uri": "https://localhost:8080/",
          "height": 280
        },
        "id": "WMotH0IKvmit",
        "outputId": "4d44fbb4-6b40-435e-954c-7532fc7c0ff8"
      },
      "source": [
        "# ------------------------------------------------------------\n",
        "# gráfico de barras - academy awards (Oscars)\n",
        "# ------------------------------------------------------------\n",
        "\n",
        "movies = [\"Annie Hall\", \"Ben-Hur\", \"Casablanca\", \"Gandhi\", \"West Side Story\"]\n",
        "num_oscars = [5, 11, 3, 8, 10]\n",
        "\n",
        "# as barras trazem por padrão a espessura 0.8, então vamos adicionar 0.1 às coordenadas da esquerda para que as barras sejam centralizadas\n",
        "xs = [i + 0.1 for i, _ in enumerate(movies)]\n",
        "\n",
        "# plotar gráfico de barras\n",
        "plt.bar(xs, num_oscars, align='center')\n",
        "\n",
        "plt.ylabel(\"Número de Oscars\")\n",
        "plt.title(\"Filmes\")\n",
        "\n",
        "# colocando labes no eixo x com nomes dos filmes no centro das barras\n",
        "plt.xticks([i + 0.1 for i, _ in enumerate(movies)], movies) \n",
        "\n",
        "plt.show()\n"
      ],
      "execution_count": null,
      "outputs": [
        {
          "output_type": "display_data",
          "data": {
            "image/png": "[encoded data removed]",
            "text/plain": [
              "<Figure size 432x288 with 1 Axes>"
            ]
          },
          "metadata": {
            "tags": [],
            "needs_background": "light"
          }
        }
      ]
    },
    {
      "cell_type": "markdown",
      "metadata": {
        "id": "oVyS-uqOuwB4"
      },
      "source": [
        "## Histogramas\n",
        "\n",
        "Histogramas podem se parecer com gráficos de barra mas na verdade cumprem uma função diferente.\n",
        "\n",
        "Utilizamos histogramas para entender a distribuição de um conjunto de dados. Isso pode ser útil por vários motivos, como encontrar outliers, por exemplo.\n",
        "\n",
        "Vamos ver como eles funcionam na prática, analisando a distribuição das notas dos alunos de uma turma em uma prova."
      ]
    },
    {
      "cell_type": "code",
      "metadata": {
        "colab": {
          "base_uri": "https://localhost:8080/",
          "height": 294
        },
        "id": "s-SzHxUPvqNk",
        "outputId": "10f25466-c943-4d07-ee4d-1513ecb1102f"
      },
      "source": [
        "# ------------------------------------------------------------\n",
        "# histograma\n",
        "# ------------------------------------------------------------\n",
        "\n",
        "grades = [83,95,91,87,70,0,85,82,100,67,73,77,0]\n",
        "\n",
        "def decile(grade): return grade // 10 * 10\n",
        "\n",
        "histogram = Counter(decile(grade) for grade in grades)\n",
        "\n",
        "plt.bar([x for x in histogram.keys()],\n",
        "        height=histogram.values(),\n",
        "        width=8,\n",
        "        align='center')\n",
        "plt.axis([-5, 105, 0, 5])\n",
        "plt.xticks([10 * i for i in range(11)])\n",
        "plt.xlabel(\"Nota\")\n",
        "plt.ylabel(\"Número de Alunos\")\n",
        "plt.title(\"Distribuição das Notas na Prova\")\n",
        "plt.show()"
      ],
      "execution_count": null,
      "outputs": [
        {
          "output_type": "display_data",
          "data": {
            "image/png": "[encoded data removed]",
            "text/plain": [
              "<Figure size 432x288 with 1 Axes>"
            ]
          },
          "metadata": {
            "tags": [],
            "needs_background": "light"
          }
        }
      ]
    },
    {
      "cell_type": "markdown",
      "metadata": {
        "id": "FD5jD2Zj0cFk"
      },
      "source": [
        "## Scartterplots\n",
        "\n",
        "Scatterplots, ou Gráficos de Dispersão são utilizados para distribuir em um plano cartesiano os pontos de dados em um conjunto.\n",
        "\n",
        "Também serve para mostrar a distribuição do conjunto de dados, mas visualizado em um \"mapa\", onde, a partir de suas variáveis (x e y), o ponto é plotado no gráfico demonstrando onde aquele ponto se encontra.\n",
        "\n",
        "Vejamos na prática"
      ]
    },
    {
      "cell_type": "code",
      "metadata": {
        "colab": {
          "base_uri": "https://localhost:8080/",
          "height": 295
        },
        "id": "Z0BoGSaQvwtQ",
        "outputId": "6854cc57-6b8c-4ee0-ab34-9e69f6be9fef"
      },
      "source": [
        "# ------------------------------------------------------------\n",
        "# scatterplots\n",
        "# ------------------------------------------------------------\n",
        "\n",
        "friends = [ 70,  65,  72,  63,  71,  64,  60,  64,  67]\n",
        "minutes = [175, 170, 205, 120, 220, 130, 105, 145, 190]\n",
        "labels =  ['a', 'b', 'c', 'd', 'e', 'f', 'g', 'h', 'i']\n",
        "\n",
        "plt.scatter(friends, minutes)\n",
        "\n",
        "# marcando cada ponto\n",
        "for label, friend_count, minute_count in zip(labels, friends, minutes):\n",
        "    plt.annotate(label,\n",
        "        xy=(friend_count, minute_count),  # colocando os labels nos pontos\n",
        "        xytext=(5, -5),                   # pequena distância entre label e  ponto\n",
        "        textcoords='offset points')\n",
        "\n",
        "plt.title(\"Minutos por Dia vs. Núnmero de Amigos\")\n",
        "plt.xlabel(\"Número de Amigos\")\n",
        "plt.ylabel(\"Minutos Por Dia nas Redes Sociais\")\n",
        "plt.show()"
      ],
      "execution_count": null,
      "outputs": [
        {
          "output_type": "display_data",
          "data": {
            "image/png": "[encoded data removed]",
            "text/plain": [
              "<Figure size 432x288 with 1 Axes>"
            ]
          },
          "metadata": {
            "tags": [],
            "needs_background": "light"
          }
        }
      ]
    },
    {
      "cell_type": "code",
      "metadata": {
        "id": "v3V-r1Nr1C6F"
      },
      "source": [
        ""
      ],
      "execution_count": null,
      "outputs": []
    }
  ]
}